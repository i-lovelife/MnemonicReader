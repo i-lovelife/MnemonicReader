{
 "cells": [
  {
   "cell_type": "code",
   "execution_count": 20,
   "metadata": {},
   "outputs": [
    {
     "name": "stdout",
     "output_type": "stream",
     "text": [
      "['Hello', 'world', '.']\n"
     ]
    }
   ],
   "source": [
    "import spacy\n",
    "nlp = spacy.load('en')\n",
    "def tokenize(text):\n",
    "    doc = nlp(text.replace('\\n', ' '))\n",
    "    return [text.text for text in doc]\n",
    "tokens = tokenize(text)\n",
    "print(tokens)"
   ]
  },
  {
   "cell_type": "code",
   "execution_count": 21,
   "metadata": {},
   "outputs": [
    {
     "name": "stdout",
     "output_type": "stream",
     "text": [
      "num_paragraph = 20963\n",
      "num_qas = 98169\n",
      "ave_context_len = 137.06\n",
      "max_context_len = 809.00\n",
      "ave_query_len = 11.42\n",
      "max_query_len = 60.00\n",
      "ave_answer_len = 3.39\n",
      "max_answer_len = 46.00\n",
      "out_of_scopes = 2663\n"
     ]
    }
   ],
   "source": [
    "import json\n",
    "import numpy as np\n",
    "squad = []\n",
    "dataset_dir = '/home/lnan6257/work/MnemonicReader/data/datasets/'\n",
    "for filename in ['SQuAD-train-v1.1.json', 'SQuAD-dev-v1.1.json']:\n",
    "    with open(dataset_dir + filename,'r')as fh:\n",
    "        squad+=json.load(fh)['data']\n",
    "\n",
    "num_paragraph = 0\n",
    "num_qas = 0 \n",
    "all_context_len = []\n",
    "all_query_len = []\n",
    "all_answer_len = []\n",
    "out_of_scopes = 0\n",
    "for x in squad:\n",
    "    num_paragraph += len(x['paragraphs'])\n",
    "    all_context_len += [len(tokenize(paragraph['context'])) for paragraph in x['paragraphs']]\n",
    "    for y in x['paragraphs']:\n",
    "        qas = y['qas']\n",
    "        num_qas += len(qas)\n",
    "        all_query_len += [len(tokenize(tmp['question'])) for tmp in qas]\n",
    "        for qa in qas:\n",
    "            all_answer_len += [len(tokenize(tmp['text'])) for tmp in qa['answers']]\n",
    "            out_of_scopes += np.sum([1 if len(tokenize(tmp['text']))>15 else 0 for tmp in qa['answers']])\n",
    "            \n",
    "print('num_paragraph = %d' % num_paragraph)\n",
    "print('num_qas = %d' % num_qas)\n",
    "print('ave_context_len = %.2f' % np.mean(all_context_len))\n",
    "print('max_context_len = %.2f' % np.max(all_context_len))\n",
    "\n",
    "print('ave_query_len = %.2f' % np.mean(all_query_len))\n",
    "print('max_query_len = %.2f' % np.max(all_query_len))\n",
    "\n",
    "print('ave_answer_len = %.2f' % np.mean(all_answer_len))\n",
    "print('max_answer_len = %.2f' % np.max(all_answer_len))\n",
    "print('out_of_scopes = %d' % out_of_scopes)"
   ]
  },
  {
   "cell_type": "code",
   "execution_count": 27,
   "metadata": {},
   "outputs": [
    {
     "name": "stdout",
     "output_type": "stream",
     "text": [
      "{'context': 'Architecturally, the school has a Catholic character. Atop the Main Building\\'s gold dome is a golden statue of the Virgin Mary. Immediately in front of the Main Building and facing it, is a copper statue of Christ with arms upraised with the legend \"Venite Ad Me Omnes\". Next to the Main Building is the Basilica of the Sacred Heart. Immediately behind the basilica is the Grotto, a Marian place of prayer and reflection. It is a replica of the grotto at Lourdes, France where the Virgin Mary reputedly appeared to Saint Bernadette Soubirous in 1858. At the end of the main drive (and in a direct line that connects through 3 statues and the Gold Dome), is a simple, modern stone statue of Mary.', 'qas': [{'answers': [{'answer_start': 515, 'text': 'Saint Bernadette Soubirous'}], 'question': 'To whom did the Virgin Mary allegedly appear in 1858 in Lourdes France?', 'id': '5733be284776f41900661182'}, {'answers': [{'answer_start': 188, 'text': 'a copper statue of Christ'}], 'question': 'What is in front of the Notre Dame Main Building?', 'id': '5733be284776f4190066117f'}, {'answers': [{'answer_start': 279, 'text': 'the Main Building'}], 'question': 'The Basilica of the Sacred heart at Notre Dame is beside to which structure?', 'id': '5733be284776f41900661180'}, {'answers': [{'answer_start': 381, 'text': 'a Marian place of prayer and reflection'}], 'question': 'What is the Grotto at Notre Dame?', 'id': '5733be284776f41900661181'}, {'answers': [{'answer_start': 92, 'text': 'a golden statue of the Virgin Mary'}], 'question': 'What sits on top of the Main Building at Notre Dame?', 'id': '5733be284776f4190066117e'}]}\n"
     ]
    }
   ],
   "source": [
    "\n",
    "print(squad[0]['paragraphs'][0])"
   ]
  }
 ],
 "metadata": {
  "kernelspec": {
   "display_name": "Python 3",
   "language": "python",
   "name": "python3"
  },
  "language_info": {
   "codemirror_mode": {
    "name": "ipython",
    "version": 3
   },
   "file_extension": ".py",
   "mimetype": "text/x-python",
   "name": "python",
   "nbconvert_exporter": "python",
   "pygments_lexer": "ipython3",
   "version": "3.6.2"
  }
 },
 "nbformat": 4,
 "nbformat_minor": 2
}
